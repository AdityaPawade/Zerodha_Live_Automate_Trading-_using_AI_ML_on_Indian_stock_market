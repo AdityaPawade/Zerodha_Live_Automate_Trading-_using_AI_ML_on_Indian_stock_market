{
 "cells": [
  {
   "cell_type": "markdown",
   "metadata": {},
   "source": [
    "# Getting historical and live continous data from Zerodha"
   ]
  },
  {
   "cell_type": "code",
   "execution_count": null,
   "metadata": {},
   "outputs": [],
   "source": [
    "from kiteconnect import KiteTicker               \n",
    "from kiteconnect import KiteConnect  \n",
    "api_key='*************'                      \n",
    "api_secret='*************'    \n",
    "kite=KiteConnect(api_key,api_secret)\n",
    "kite.login_url()"
   ]
  },
  {
   "cell_type": "code",
   "execution_count": null,
   "metadata": {},
   "outputs": [],
   "source": [
    "import logging\n",
    "logging.basicConfig(level=logging.DEBUG)\n",
    "kite = KiteConnect(api_key=api_key)\n",
    "token=\"1tIQDqLH3mg4fYHBaYanUyVuBa2jEEVU\"\n",
    "data = kite.generate_session(token,api_secret)\n",
    "kite.set_access_token(data[\"access_token\"])\n",
    "print(data)"
   ]
  },
  {
   "cell_type": "code",
   "execution_count": null,
   "metadata": {},
   "outputs": [],
   "source": [
    "from pprint import pprint\n",
    "import pandas as pd \n",
    "import numpy as np\n",
    "from datetime import datetime \n",
    "from IPython.display import clear_output\n",
    "import time\n",
    "from kiteconnect import KiteTicker  \n",
    "from kiteconnect import KiteConnect\n",
    "\n",
    "def livedata():\n",
    "    while (True):\n",
    "        km=datetime.now().minute\n",
    "        ks=datetime.now().second\n",
    "        if km%1==0 and ks==1:\n",
    "            clear_output(wait=True)\n",
    "            z=kite.historical_data(857857, \"2018-04-05\", \"2019-06-02\",\"minute\",0)\n",
    "            za=pd.DataFrame(z)\n",
    "            time.sleep(60)\n",
    "livedata()"
   ]
  }
 ],
 "metadata": {
  "kernelspec": {
   "display_name": "Python 3",
   "language": "python",
   "name": "python3"
  },
  "language_info": {
   "codemirror_mode": {
    "name": "ipython",
    "version": 3
   },
   "file_extension": ".py",
   "mimetype": "text/x-python",
   "name": "python",
   "nbconvert_exporter": "python",
   "pygments_lexer": "ipython3",
   "version": "3.7.3"
  }
 },
 "nbformat": 4,
 "nbformat_minor": 2
}
