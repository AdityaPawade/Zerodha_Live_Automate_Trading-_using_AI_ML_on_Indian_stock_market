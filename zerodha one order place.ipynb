{
 "cells": [
  {
   "cell_type": "code",
   "execution_count": 1,
   "metadata": {},
   "outputs": [
    {
     "data": {
      "text/plain": [
       "'https://kite.trade/connect/login?api_key=inx2yhl01h5udgec&v=3'"
      ]
     },
     "execution_count": 1,
     "metadata": {},
     "output_type": "execute_result"
    }
   ],
   "source": [
    "from kiteconnect import KiteTicker               \n",
    "from kiteconnect import KiteConnect  \n",
    "\n",
    "#enter your api key \n",
    "api_key='**************enter api key here*************************'  \n",
    "\n",
    "#enter your api secret\n",
    "api_secret='***************enter api secret here*********************'   \n",
    "\n",
    "\n",
    "kite=KiteConnect(api_key,api_secret)\n",
    "kite.login_url()   \n",
    "# now u wil get url from this code like :- https://kite.trade/connect/login?api_key=in*****************7845'\n",
    "\n"
   ]
  },
  {
   "cell_type": "code",
   "execution_count": null,
   "metadata": {},
   "outputs": [],
   "source": [
    "#now after getting token fill token in this :"
   ]
  },
  {
   "cell_type": "code",
   "execution_count": 2,
   "metadata": {},
   "outputs": [],
   "source": [
    "#import libaries \n",
    "\n",
    "import logging\n",
    "from kiteconnect import KiteConnect\n",
    "\n",
    "logging.basicConfig(level=logging.DEBUG)\n",
    "\n",
    "#enter api key here again\n",
    "kite = KiteConnect(api_key=\"**********enter api key here*********\")\n",
    "\n",
    "#enter api secret and token genetated from url \n",
    "\n",
    "data = kite.generate_session(\"******* enter token here*********\", api_secret=\"***************enter api secret here********\")\n",
    "kite.set_access_token(data[\"access_token\"])\n",
    "\n",
    "#to place order i market\n",
    "kite.place_order(\"regular\",\"NSE\",\"SUNPHARMA\",\"BUY\",1,\"NRML\",\"MARKET\")\n",
    "\n",
    "kite.orders() #it will shows all the order placed \n"
   ]
  },
  {
   "cell_type": "code",
   "execution_count": null,
   "metadata": {},
   "outputs": [],
   "source": []
  }
 ],
 "metadata": {
  "kernelspec": {
   "display_name": "Python 3",
   "language": "python",
   "name": "python3"
  },
  "language_info": {
   "codemirror_mode": {
    "name": "ipython",
    "version": 3
   },
   "file_extension": ".py",
   "mimetype": "text/x-python",
   "name": "python",
   "nbconvert_exporter": "python",
   "pygments_lexer": "ipython3",
   "version": "3.7.1"
  }
 },
 "nbformat": 4,
 "nbformat_minor": 2
}
