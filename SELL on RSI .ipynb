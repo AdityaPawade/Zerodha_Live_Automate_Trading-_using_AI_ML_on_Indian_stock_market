{
 "cells": [
  {
   "cell_type": "markdown",
   "metadata": {},
   "source": [
    "# SELL  order on RSI when rsi in between 30-70 and stop loss is the lowest low of all candles between 30-70"
   ]
  },
  {
   "cell_type": "code",
   "execution_count": null,
   "metadata": {},
   "outputs": [],
   "source": [
    "from kiteconnect import KiteTicker               \n",
    "from kiteconnect import KiteConnect  \n",
    "api_key='************'                      \n",
    "api_secret='*************'   \n",
    "kite=KiteConnect(api_key,api_secret)\n",
    "kite.login_url()"
   ]
  },
  {
   "cell_type": "code",
   "execution_count": null,
   "metadata": {},
   "outputs": [],
   "source": [
    "import logging\n",
    "logging.basicConfig(level=logging.DEBUG)\n",
    "kite = KiteConnect(api_key=api_key)\n",
    "token=\"***********\"\n",
    "data = kite.generate_session(token,api_secret)\n",
    "kite.set_access_token(data[\"access_token\"])\n",
    "print(data)"
   ]
  },
  {
   "cell_type": "code",
   "execution_count": null,
   "metadata": {},
   "outputs": [],
   "source": [
    "from pprint import pprint\n",
    "import pandas as pd \n",
    "import numpy as np\n",
    "from datetime import datetime \n",
    "from IPython.display import clear_output\n",
    "import time\n",
    "from kiteconnect import KiteTicker  \n",
    "from kiteconnect import KiteConnect\n",
    "\n",
    "\n",
    "dataclose=[]\n",
    "datarsi= []\n",
    "def livedata():\n",
    "    while (True):\n",
    "        km=datetime.now().minute\n",
    "        ks=datetime.now().second\n",
    "        if km%1==0 and ks==1:\n",
    "            clear_output(wait=True)\n",
    "            z=kite.historical_data(857857, \"2019-01-05\", \"2019-06-02\",\"minute\",0)\n",
    "            za=pd.DataFrame(z)\n",
    "            rsi_period=14\n",
    "            chg=za[\"close\"].diff(1)\n",
    "            gain=chg.mask(chg<0,0) \n",
    "            loss=chg.mask(chg>0,0)\n",
    "            avg_gain=gain.ewm(com=rsi_period-1,min_periods=rsi_period).mean()\n",
    "            avg_loss=loss.ewm(com=rsi_period-1,min_periods=rsi_period).mean()\n",
    "            rs =abs(avg_gain / avg_loss)\n",
    "            rsi =100 -(100/(1+rs))\n",
    "            za['rsi']=rsi\n",
    "            \n",
    "            if za.iloc[-1,6]<60:\n",
    "                \n",
    "                print(\"RSI is less then 60\")\n",
    "                \n",
    "                dataclose.append(za.iloc[-1,3])\n",
    "                datarsi.append(za.iloc[-1,6])\n",
    "                \n",
    "                print(\"RSI value is\",datarsi)\n",
    "                print(\"Close value is\",dataclose)\n",
    "                while za.iloc[-1,6]>=55:\n",
    "                    print(emojize(\":thumbs_up:\"))\n",
    "                    print(emojize(\":thumbs_up:\"))\n",
    "                    print(\" out ! Condition Satisfised\")\n",
    "                    sloss=min(dataclose)\n",
    "                    price=sloss-5\n",
    "                    print(\" low of low 'stoploss' is  :\",sloss , \"and price is\", price )\n",
    "                    kite.place_order(variety=\"regular\",tradingsymbol='SUNPHARMA',quantity=1,exchange='NSE',order_type='SL',trigger_price=price,stoploss= sloss,transaction_type='SELL',product='CNC')\n",
    "                    print(\" Congrats SL Order Placed \")\n",
    "                \n",
    "                    break\n",
    "            time.sleep(60)\n",
    "            \n",
    "livedata() "
   ]
  },
  {
   "cell_type": "markdown",
   "metadata": {},
   "source": [
    "# SELL Order Executed "
   ]
  },
  {
   "cell_type": "code",
   "execution_count": null,
   "metadata": {},
   "outputs": [],
   "source": [
    "'placed_by': 'BQ8330',\n",
    "  'order_id': '190507001518259',\n",
    "  'exchange_order_id': '1300000003732254',\n",
    "  'parent_order_id': None,\n",
    "  'status': 'TRIGGER PENDING',\n",
    "  'status_message': None,\n",
    "  'order_timestamp': datetime.datetime(2019, 5, 7, 12, 46, 6),\n",
    "  'exchange_update_timestamp': None,\n",
    "  'exchange_timestamp': datetime.datetime(2019, 5, 7, 12, 46, 6),\n",
    "  'variety': 'regular',\n",
    "  'exchange': 'NSE',\n",
    "  'tradingsymbol': 'SUNPHARMA',\n",
    "  'instrument_token': 857857,\n",
    "  'order_type': 'SL',\n",
    "  'transaction_type': 'SELL',\n",
    "  'validity': 'DAY',\n",
    "  'product': 'CNC',\n",
    "  'quantity': 1,\n",
    "  'disclosed_quantity': 0,\n",
    "  'price': 0,\n",
    "  'trigger_price': 449.6,\n",
    "  'average_price': 0,\n",
    "  'filled_quantity': 0,\n",
    "  'pending_quantity': 1,\n",
    "  'cancelled_quantity': 0,\n",
    "  'market_protection': 0,\n",
    "  'tag': None,\n",
    "  'guid': '10778X26WtP3BXghRW'}]"
   ]
  }
 ],
 "metadata": {
  "kernelspec": {
   "display_name": "Python 3",
   "language": "python",
   "name": "python3"
  },
  "language_info": {
   "codemirror_mode": {
    "name": "ipython",
    "version": 3
   },
   "file_extension": ".py",
   "mimetype": "text/x-python",
   "name": "python",
   "nbconvert_exporter": "python",
   "pygments_lexer": "ipython3",
   "version": "3.7.3"
  }
 },
 "nbformat": 4,
 "nbformat_minor": 2
}
