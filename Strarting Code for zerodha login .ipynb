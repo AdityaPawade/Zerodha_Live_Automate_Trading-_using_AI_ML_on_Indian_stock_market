{
 "cells": [
  {
   "cell_type": "markdown",
   "metadata": {},
   "source": [
    "# Strarting Code for zerodha login to get request token, access token and public token"
   ]
  },
  {
   "cell_type": "code",
   "execution_count": null,
   "metadata": {},
   "outputs": [],
   "source": [
    "from kiteconnect import KiteTicker               \n",
    "from kiteconnect import KiteConnect  \n",
    "api_key='************enter api key******'                      \n",
    "api_secret='******enter api secret*********'   \n",
    "kite=KiteConnect(api_key,api_secret)\n",
    "kite.login_url()"
   ]
  },
  {
   "cell_type": "code",
   "execution_count": null,
   "metadata": {},
   "outputs": [],
   "source": [
    "import logging\n",
    "logging.basicConfig(level=logging.DEBUG)\n",
    "kite = KiteConnect(api_key=api_key)\n",
    "token=\"4SSFEvs8Ef0C3ryKCp47jVqUpvV1eXml\"\n",
    "data = kite.generate_session(token,api_secret)\n",
    "kite.set_access_token(data[\"access_token\"])\n",
    "print(data)"
   ]
  }
 ],
 "metadata": {
  "kernelspec": {
   "display_name": "Python 3",
   "language": "python",
   "name": "python3"
  },
  "language_info": {
   "codemirror_mode": {
    "name": "ipython",
    "version": 3
   },
   "file_extension": ".py",
   "mimetype": "text/x-python",
   "name": "python",
   "nbconvert_exporter": "python",
   "pygments_lexer": "ipython3",
   "version": "3.7.3"
  }
 },
 "nbformat": 4,
 "nbformat_minor": 2
}
