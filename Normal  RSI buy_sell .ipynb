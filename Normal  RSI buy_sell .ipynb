{
 "cells": [
  {
   "cell_type": "markdown",
   "metadata": {},
   "source": [
    "# RSI buy & sell both Full bot on ZERODHA"
   ]
  },
  {
   "cell_type": "markdown",
   "metadata": {},
   "source": [
    "This is the automated BUY and SELL code for zerodha , it will buy order and sell that order on indian exchange based on buy/sell strategy implemented on code."
   ]
  },
  {
   "cell_type": "markdown",
   "metadata": {},
   "source": [
    "importing all useful libraries"
   ]
  },
  {
   "cell_type": "code",
   "execution_count": 12,
   "metadata": {},
   "outputs": [],
   "source": [
    "import time\n",
    "import secrets \n",
    "import logging\n",
    "import pandas as pd\n",
    "import numpy as np\n",
    "import seaborn as sns\n",
    "from pprint import pprint\n",
    "import matplotlib.pyplot as plt\n",
    "from datetime import datetime\n",
    "from kiteconnect import KiteTicker               \n",
    "from kiteconnect import KiteConnect  \n",
    "from IPython.display import clear_output"
   ]
  },
  {
   "cell_type": "markdown",
   "metadata": {},
   "source": [
    "# Login to zerodha "
   ]
  },
  {
   "cell_type": "code",
   "execution_count": null,
   "metadata": {},
   "outputs": [],
   "source": [
    "api_key='*******'                      \n",
    "api_secret='**********'   \n",
    "kite=KiteConnect(api_key,api_secret)\n",
    "kite.login_url()"
   ]
  },
  {
   "cell_type": "markdown",
   "metadata": {},
   "source": [
    "Paste Token for login here "
   ]
  },
  {
   "cell_type": "code",
   "execution_count": null,
   "metadata": {},
   "outputs": [],
   "source": [
    "token=\"YfsDahPM4KxH0bGh4C16Jg1GqAJupAMg\"\n",
    "logging.basicConfig(level=logging.DEBUG)\n",
    "kite = KiteConnect(api_key=api_key)\n",
    "data = kite.generate_session(token,api_secret)\n",
    "kite.set_access_token(data[\"access_token\"])\n",
    "print(data)"
   ]
  },
  {
   "cell_type": "markdown",
   "metadata": {},
   "source": [
    "# Buy SELL Code "
   ]
  },
  {
   "cell_type": "code",
   "execution_count": 13,
   "metadata": {},
   "outputs": [
    {
     "name": "stderr",
     "output_type": "stream",
     "text": [
      "DEBUG:urllib3.connectionpool:Starting new HTTPS connection (1): api.kite.trade:443\n",
      "DEBUG:urllib3.connectionpool:https://api.kite.trade:443 \"GET /instruments/historical/857857/minute?instrument_token=857857&from=2019-01-05&to=2019-06-02&interval=minute&continuous=0 HTTP/1.1\" 200 None\n",
      "C:\\Users\\ashish\\Anaconda3\\lib\\site-packages\\numpy\\core\\_methods.py:140: RuntimeWarning: Degrees of freedom <= 0 for slice\n",
      "  keepdims=keepdims)\n",
      "C:\\Users\\ashish\\Anaconda3\\lib\\site-packages\\numpy\\core\\_methods.py:132: RuntimeWarning: invalid value encountered in double_scalars\n",
      "  ret = ret.dtype.type(ret / rcount)\n",
      "DEBUG:matplotlib.axes._base:update_title_pos\n",
      "DEBUG:matplotlib.font_manager:findfont: Matching :family=sans-serif:style=normal:variant=normal:weight=normal:stretch=normal:size=10.0 to DejaVu Sans ('C:\\\\Users\\\\ashish\\\\Anaconda3\\\\lib\\\\site-packages\\\\matplotlib\\\\mpl-data\\\\fonts\\\\ttf\\\\DejaVuSans.ttf') with score of 0.050000.\n"
     ]
    },
    {
     "name": "stdout",
     "output_type": "stream",
     "text": [
      " \n",
      " \t \t \t Relative Strength Index   \n",
      "\n",
      " \n",
      "Current RSI status is   [37.86265222447122]\n",
      "Current HIGH is         [398.1]\n",
      "\n",
      " \n",
      "\t  \t Buy Sell details and number of order Placed \n",
      " \n",
      "BUY price is                         []\n",
      "BUY limit price is                   []\n",
      "sell SL trigger price is             []\n",
      "sell stoploss is price is            []\n",
      "Number of order placed till now is   0\n"
     ]
    },
    {
     "name": "stderr",
     "output_type": "stream",
     "text": [
      "DEBUG:matplotlib.axes._base:update_title_pos\n",
      "DEBUG:matplotlib.axes._base:update_title_pos\n",
      "DEBUG:matplotlib.axes._base:update_title_pos\n"
     ]
    },
    {
     "data": {
      "image/png": "[encoded data removed]",
      "text/plain": [
       "<Figure size 432x288 with 1 Axes>"
      ]
     },
     "metadata": {
      "needs_background": "light"
     },
     "output_type": "display_data"
    },
    {
     "ename": "KeyboardInterrupt",
     "evalue": "",
     "output_type": "error",
     "traceback": [
      "\u001b[1;31m---------------------------------------------------------------------------\u001b[0m",
      "\u001b[1;31mKeyboardInterrupt\u001b[0m                         Traceback (most recent call last)",
      "\u001b[1;32m<ipython-input-13-ab3d6432b440>\u001b[0m in \u001b[0;36m<module>\u001b[1;34m\u001b[0m\n\u001b[0;32m    112\u001b[0m                 \u001b[1;32melse\u001b[0m\u001b[1;33m:\u001b[0m\u001b[1;33m\u001b[0m\u001b[1;33m\u001b[0m\u001b[0m\n\u001b[0;32m    113\u001b[0m                     \u001b[1;32mpass\u001b[0m\u001b[1;33m\u001b[0m\u001b[1;33m\u001b[0m\u001b[0m\n\u001b[1;32m--> 114\u001b[1;33m \u001b[0mashi\u001b[0m\u001b[1;33m(\u001b[0m\u001b[1;33m)\u001b[0m\u001b[1;33m\u001b[0m\u001b[1;33m\u001b[0m\u001b[0m\n\u001b[0m",
      "\u001b[1;32m<ipython-input-13-ab3d6432b440>\u001b[0m in \u001b[0;36mashi\u001b[1;34m()\u001b[0m\n\u001b[0;32m     59\u001b[0m             \u001b[0msns\u001b[0m\u001b[1;33m.\u001b[0m\u001b[0mkdeplot\u001b[0m\u001b[1;33m(\u001b[0m\u001b[0mzz\u001b[0m\u001b[1;33m[\u001b[0m\u001b[1;34m'high'\u001b[0m\u001b[1;33m]\u001b[0m\u001b[1;33m,\u001b[0m \u001b[0mshade\u001b[0m\u001b[1;33m=\u001b[0m\u001b[1;32mFalse\u001b[0m\u001b[1;33m)\u001b[0m\u001b[1;33m\u001b[0m\u001b[1;33m\u001b[0m\u001b[0m\n\u001b[0;32m     60\u001b[0m             \u001b[0mplt\u001b[0m\u001b[1;33m.\u001b[0m\u001b[0mshow\u001b[0m\u001b[1;33m(\u001b[0m\u001b[1;33m)\u001b[0m\u001b[1;33m\u001b[0m\u001b[1;33m\u001b[0m\u001b[0m\n\u001b[1;32m---> 61\u001b[1;33m             \u001b[0mtime\u001b[0m\u001b[1;33m.\u001b[0m\u001b[0msleep\u001b[0m\u001b[1;33m(\u001b[0m\u001b[1;36m60\u001b[0m\u001b[1;33m)\u001b[0m\u001b[1;33m\u001b[0m\u001b[1;33m\u001b[0m\u001b[0m\n\u001b[0m\u001b[0;32m     62\u001b[0m \u001b[1;33m\u001b[0m\u001b[0m\n\u001b[0;32m     63\u001b[0m             \u001b[1;31m# condition Checking for SELL order\u001b[0m\u001b[1;33m\u001b[0m\u001b[1;33m\u001b[0m\u001b[1;33m\u001b[0m\u001b[0m\n",
      "\u001b[1;31mKeyboardInterrupt\u001b[0m: "
     ]
    }
   ],
   "source": [
    "# All Variables\n",
    "\n",
    "check=[]\n",
    "dataclose=[]\n",
    "datarsi=[]\n",
    "a=[]\n",
    "b=[]\n",
    "buyprice=[]\n",
    "limitprice=[]\n",
    "org_price=[]\n",
    "orderplaced=[]\n",
    "sellorder=[]\n",
    "sellorder1=[]\n",
    "\n",
    "def ashi():\n",
    "    while(True): \n",
    "        \n",
    "        # Fetching Live Data \n",
    "        \n",
    "        km=datetime.now().minute\n",
    "        ks=datetime.now().second\n",
    "        if km%1==0 and ks==1:\n",
    "            clear_output(wait=True)\n",
    "            z=kite.historical_data(857857, \"2019-01-05\", \"2019-06-02\",\"minute\",0)\n",
    "            za=pd.DataFrame(z)                                        \n",
    "            rsi_period=14\n",
    "            chg=za[\"close\"].diff(1)\n",
    "            gain=chg.mask(chg<0,0) \n",
    "            loss=chg.mask(chg>0,0)\n",
    "            avg_gain=gain.ewm(com=rsi_period-1,min_periods=rsi_period).mean()\n",
    "            avg_loss=loss.ewm(com=rsi_period-1,min_periods=rsi_period).mean()\n",
    "            rs =abs(avg_gain / avg_loss)\n",
    "            rsi =100 -(100/(1+rs))\n",
    "            za['rsi']=rsi\n",
    "            p=za.iloc[-1,6]\n",
    "            o=za.iloc[-2,2] \n",
    "            a.append(p)\n",
    "            b.append(o)\n",
    "\n",
    "            # Interface\n",
    "\n",
    "            print(\" \\n \\t \\t \\t Relative Strength Index   \" )\n",
    "            print(\"\\n \")\n",
    "            print(\"Current RSI status is  \" , a)\n",
    "            print(\"Current HIGH is        \" , b)\n",
    "            print(\"\\n \")\n",
    "            print(\"\\t  \\t Buy Sell details and number of order Placed \\n \")\n",
    "            #print(\"buy orignal price at the time of buy when buy order place is \", org_price)\n",
    "            print(\"BUY price is                        \" , buyprice)\n",
    "            print(\"BUY limit price is                  \" , limitprice )\n",
    "            print(\"sell SL trigger price is            \" , sellorder)\n",
    "            print(\"sell stoploss is price is           \" , sellorder1 )\n",
    "            print(\"Number of order placed till now is  \" , len(orderplaced))\n",
    "            \n",
    "            # Plotting of graph\n",
    "            \n",
    "            zz = pd.DataFrame({'RSI':a,\"high\":b })\n",
    "            sns.kdeplot(zz['RSI'], shade=False)\n",
    "            sns.kdeplot(zz['high'], shade=False)\n",
    "            plt.show()\n",
    "            time.sleep(60)\n",
    "\n",
    "            # condition Checking for SELL order\n",
    "\n",
    "            if 0 in check:\n",
    "\n",
    "                # Strategy Implemented\n",
    "\n",
    "                if za.iloc[-1,6]<=60:   \n",
    "                    dataclose.append(za.iloc[-1,3])\n",
    "                    datarsi.append(za.iloc[-1,6])\n",
    "                    while za.iloc[-1,6]>=50:\n",
    "                        triggerpriceis=min(dataclose)\n",
    "                        sellorder.append(triggerpriceis)\n",
    "                        stoplossis=triggerpriceis-5\n",
    "                        sellorder1.append(stoplossis)\n",
    "                        clear_output(wait=True) \n",
    "                        print(\"Buy Limit order placed and Price is \", limitprice , \" and Triger price is \", buyprice )\n",
    "                        print(\" Sell Stoploss order placed and SL trigger price is  \", triggerpriceis, \" and stoploss is\",stoplossis)\n",
    "                        \n",
    "                        kite.place_order(variety=\"regular\",tradingsymbol='SUNPHARMA',quantity=1,exchange='NSE',order_type='SL',trigger_price= triggerpriceis,stoploss= stoplossis,transaction_type='SELL',product='CNC',tag=\"ashishbt\")\n",
    "                        \n",
    "                        # SELL LIMIT order implemented\n",
    "                        \n",
    "                        p = secrets.randbelow(1)\n",
    "                        orderplaced.append(p)\n",
    "                        print(\"no of order placed till now is\", len(orderplaced))\n",
    "                        a.clear()\n",
    "                        b.clear()\n",
    "                        check.clear()\n",
    "                        ashi()         # or - raise SystemExit for one time\n",
    "                else:\n",
    "                    pass\n",
    "            else:\n",
    "\n",
    "                # condition Checking for BUY order\n",
    "\n",
    "                if za.iloc[-1,6] > 30 and  za.iloc[-2,2] <  za.iloc[-1,2]:\n",
    "                    p = secrets.randbelow(1)\n",
    "                    check.append(p)\n",
    "                    orgprice=za.iloc[-1,2]\n",
    "                    cur_high=za.iloc[-1,2] + 1 \n",
    "                    lim_price=cur_high+3\n",
    "                    buyprice.append(cur_high) \n",
    "                    limitprice.append(lim_price)\n",
    "                    org_price.append(orgprice) \n",
    "                    print(\"Congrats ! One Limit Buy Order placed Price is\",  lim_price , \"and trigger_price is \", cur_high)\n",
    "                    \n",
    "                    kite.place_order( variety=\"regular\",tradingsymbol='SUNPHARMA',quantity=1,exchange='NSE',order_type='LIMIT',price=lim_price ,trigger_price=cur_high,transaction_type='BUY',product='CNC',tag=\"ashishbt\")\n",
    "                    # Buy LIMIT order implemented\n",
    "                    \n",
    "                else:\n",
    "                    pass\n",
    "ashi()"
   ]
  },
  {
   "cell_type": "code",
   "execution_count": null,
   "metadata": {},
   "outputs": [],
   "source": []
  }
 ],
 "metadata": {
  "kernelspec": {
   "display_name": "Python 3",
   "language": "python",
   "name": "python3"
  },
  "language_info": {
   "codemirror_mode": {
    "name": "ipython",
    "version": 3
   },
   "file_extension": ".py",
   "mimetype": "text/x-python",
   "name": "python",
   "nbconvert_exporter": "python",
   "pygments_lexer": "ipython3",
   "version": "3.7.3"
  }
 },
 "nbformat": 4,
 "nbformat_minor": 2
}
