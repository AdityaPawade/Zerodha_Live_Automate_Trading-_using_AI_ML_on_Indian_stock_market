{
 "cells": [
  {
   "cell_type": "code",
   "execution_count": null,
   "metadata": {},
   "outputs": [],
   "source": [
    "#                                                  \"  place order of sunpharma  \"\n",
    "\n",
    "\n",
    "\n",
    "\n",
    "\n",
    "from kiteconnect import KiteTicker               #import kiteconnect as !pip install kiteconnect\n",
    "from kiteconnect import KiteConnect  \n",
    "import numpy as np                                #import pandas ans numpy install as !pip install numpy \n",
    "import pandas as pd\n",
    "import time                                       #displays time \n",
    "\n",
    "api_key='inx2yhl01h5udgec'                      # api key generated from kite connect  - (https://developers.kite.trade/apps)\n",
    "api_secret='g98wb0d7lub0mjak9kf5ipqy3hj0awa9'   # api secret generated from kite connect - (https://developers.kite.trade/apps)\n",
    "\n",
    "\n",
    "\n",
    "kite=KiteConnect(api_key,api_secret)\n",
    "kite.login_url()                          \n",
    "\n",
    "# now you will get url and after login to kite you will get access token for trade \n",
    "\n",
    "\n",
    "\n",
    "#from documentry of zerodha - (https://kite.trade/docs/connect/v3/user/#login-flow)\n",
    "\n",
    "kite.request_access_token('*****',api_secret) \n",
    "\n",
    "\n",
    "#place order now (tradingsymbol=**,quantity=**,exchange=**,order_type=**,transaction_type=**,product=**)\n",
    "\n",
    "kite.place_order( variety=\"regular\",tradingsymbol='SUNPHARMA',quantity=1,exchange='NSE',order_type='MARKET',transaction_type='BUY',product='CNC')\n"
   ]
  },
  {
   "cell_type": "code",
   "execution_count": null,
   "metadata": {},
   "outputs": [],
   "source": []
  }
 ],
 "metadata": {
  "kernelspec": {
   "display_name": "Python 3",
   "language": "python",
   "name": "python3"
  },
  "language_info": {
   "codemirror_mode": {
    "name": "ipython",
    "version": 3
   },
   "file_extension": ".py",
   "mimetype": "text/x-python",
   "name": "python",
   "nbconvert_exporter": "python",
   "pygments_lexer": "ipython3",
   "version": "3.7.3"
  }
 },
 "nbformat": 4,
 "nbformat_minor": 2
}
